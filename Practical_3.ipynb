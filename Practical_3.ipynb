{
 "cells": [
  {
   "cell_type": "code",
   "execution_count": 2,
   "id": "ec3e8cb3",
   "metadata": {},
   "outputs": [
    {
     "name": "stdout",
     "output_type": "stream",
     "text": [
      "The MST is : \n",
      "[0, 2, 0, 6, 0]\n",
      "[2, 0, 3, 0, 5]\n",
      "[0, 3, 0, 0, 0]\n",
      "[6, 0, 0, 0, 0]\n",
      "[0, 5, 0, 0, 0]\n"
     ]
    }
   ],
   "source": [
    "graph = [[0, 2, 0, 6, 0],\n",
    "        [2, 0, 3, 8, 5],\n",
    "        [0, 3, 0, 0, 7],\n",
    "        [6, 8, 0, 0, 9],\n",
    "        [0, 5, 7, 9, 0]]\n",
    "Prims(graph)"
   ]
  },
  {
   "cell_type": "code",
   "execution_count": 1,
   "id": "ce253ff0",
   "metadata": {},
   "outputs": [],
   "source": [
    "def Prims(graph):\n",
    "    l = len(graph)\n",
    "    result = [[0 for i in range(l)] for j in range(l)]\n",
    "    \n",
    "    v = [-1 for i in range(l)]\n",
    "    pq = []\n",
    "    node = 0\n",
    "    \n",
    "    while (-1 in v):\n",
    "        if pq != []:\n",
    "            ele = pq[0]\n",
    "            if v[ele[0]] == -1 or v[ele[1]] == -1:\n",
    "                v[ele[0]] = 1\n",
    "                v[ele[1]] = 1\n",
    "                result[ele[0]][ele[1]] = ele[2]\n",
    "                result[ele[1]][ele[0]] = ele[2]\n",
    "                node = ele[1]\n",
    "                pq.pop(0)\n",
    "            else:\n",
    "                pq.pop(0)\n",
    "        adj = graph[node]\n",
    "        n = len(adj)\n",
    "        for i in range(n):\n",
    "            ele = [node,i,adj[i]]\n",
    "            if adj[i] != 0:\n",
    "                m = len(pq)\n",
    "                for j in range(m):\n",
    "                    if pq[j][2] > ele[2] and ele[2] != 0 and (v[ele[0]] == -1 or v[ele[1]] == -1):\n",
    "                        pq.insert(j,ele)\n",
    "                        break\n",
    "                else:\n",
    "                    if ele[2] != 0:\n",
    "                        pq.append(ele)\n",
    "#         print(pq)\n",
    "    print(\"The MST is : \")\n",
    "    for i in result:\n",
    "        print(i)\n",
    "        \n",
    "        \n",
    "    "
   ]
  }
 ],
 "metadata": {
  "kernelspec": {
   "display_name": "Python 3 (ipykernel)",
   "language": "python",
   "name": "python3"
  },
  "language_info": {
   "codemirror_mode": {
    "name": "ipython",
    "version": 3
   },
   "file_extension": ".py",
   "mimetype": "text/x-python",
   "name": "python",
   "nbconvert_exporter": "python",
   "pygments_lexer": "ipython3",
   "version": "3.10.4"
  }
 },
 "nbformat": 4,
 "nbformat_minor": 5
}
