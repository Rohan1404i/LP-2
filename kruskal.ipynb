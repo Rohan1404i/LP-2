{
 "cells": [
  {
   "cell_type": "code",
   "execution_count": 5,
   "id": "168e4034",
   "metadata": {},
   "outputs": [
    {
     "name": "stdout",
     "output_type": "stream",
     "text": [
      "The MST is : \n",
      "{0: [[1, 4], [7, 8]], 1: [[0, 4]], 2: [[8, 2], [5, 4], [3, 7]], 3: [[2, 7], [4, 9]], 4: [[3, 9]], 5: [[6, 2], [2, 4]], 6: [[7, 1], [5, 2]], 7: [[6, 1], [0, 8]], 8: [[2, 2]]}\n"
     ]
    }
   ],
   "source": [
    "graph= {0:[[1,4],[7,8]],\n",
    "        1:[[0,4],[2,8],[7,11]],\n",
    "        2:[[1,8],[8,2],[5,4],[3,7]],\n",
    "        3:[[2,7],[5,14],[4,9]],\n",
    "        4:[[3,9],[5,10]],\n",
    "        5:[[2,4],[3,14],[4,10],[6,2]],\n",
    "        6:[[7,1],[5,2],[8,6]],\n",
    "        7:[[0,8],[1,11],[6,1],[8,7]],\n",
    "        8:[[2,2],[7,7],[6,6]]}\n",
    "print(\"The MST is : \")\n",
    "kruskal_algo(graph)"
   ]
  },
  {
   "cell_type": "code",
   "execution_count": 1,
   "id": "f2e639e6",
   "metadata": {},
   "outputs": [],
   "source": [
    "def dfs_helper(a,b,res,v,n):\n",
    "    if res[a] == []:\n",
    "        return False\n",
    "    if res[b] == []:\n",
    "        return False\n",
    "#     ans = False\n",
    "    v = [-1 for i in range(n)]\n",
    "    ans = dfs(res,a,b,v)\n",
    "    return ans\n",
    "    \n",
    "    "
   ]
  },
  {
   "cell_type": "code",
   "execution_count": 3,
   "id": "8785d9f9",
   "metadata": {},
   "outputs": [],
   "source": [
    "def dfs(res,a,b,v):\n",
    "    v[a] = 1\n",
    "#     print(graph)\n",
    "    adj = res[a]\n",
    "#     print(a)\n",
    "    for i in adj:\n",
    "        if i[0] == b:\n",
    "            return True\n",
    "        if v[i[0]] == -1:\n",
    "            ans = dfs(res,i[0],b,v)\n",
    "            if ans:\n",
    "                return ans\n",
    "    return False\n",
    "        \n",
    "    "
   ]
  },
  {
   "cell_type": "code",
   "execution_count": 4,
   "id": "de7096ae",
   "metadata": {},
   "outputs": [],
   "source": [
    "def kruskal_algo(graph):\n",
    "    edge = []\n",
    "    n = len(graph.keys())\n",
    "    \n",
    "    v = [-1 for i in range(n)]\n",
    "    for i in range(n):\n",
    "        adj = graph[i]\n",
    "        for j in adj:\n",
    "            if j[0] < i:\n",
    "                continue\n",
    "            edge.append([i,j[0],j[1]])\n",
    "            \n",
    "#     print(edge)\n",
    "    edge.sort(key=lambda x:x[2])\n",
    "#     print(edge)\n",
    "\n",
    "    res = {i:[] for i in range(n)}\n",
    "    for i in edge:\n",
    "        a,b,c = i[0],i[1],i[2]\n",
    "        if not(dfs_helper(a,b,res,v,n)):\n",
    "#             print(\"here \",a,' ',b)\n",
    "            res[a].append([b,c])\n",
    "            res[b].append([a,c])\n",
    "#         print(res)\n",
    "#         print()\n",
    "#         print()\n",
    "    print(res)"
   ]
  }
 ],
 "metadata": {
  "kernelspec": {
   "display_name": "Python 3 (ipykernel)",
   "language": "python",
   "name": "python3"
  },
  "language_info": {
   "codemirror_mode": {
    "name": "ipython",
    "version": 3
   },
   "file_extension": ".py",
   "mimetype": "text/x-python",
   "name": "python",
   "nbconvert_exporter": "python",
   "pygments_lexer": "ipython3",
   "version": "3.10.4"
  }
 },
 "nbformat": 4,
 "nbformat_minor": 5
}
