{
 "cells": [
  {
   "cell_type": "code",
   "execution_count": 4,
   "metadata": {},
   "outputs": [
    {
     "name": "stdout",
     "output_type": "stream",
     "text": [
      "The route is : \n",
      "0 -> 2 -> 3 -> 4 -> 6\n"
     ]
    }
   ],
   "source": [
    "# heuristic = {0:21,1:14,2:18,3:18,4:5,5:8,6:0}\n",
    "# graph = {0:[[1,9],[2,4],[3,7]],\n",
    "#         1:[[0,9],[4,11]],\n",
    "#         2:[[0,4],[4,17],[5,12]],\n",
    "#         3:[[0,7],[5,14]],\n",
    "#         4:[[1,11],[2,17],[6,5]],\n",
    "#         5:[[2,12],[3,14],[6,9]],\n",
    "#         6:[[4,5],[5,9]]}\n",
    "heuristic = {0:21,\n",
    "            1: 12,2:11,3:6,4:4,5:11,6:0}\n",
    "graph = {0:[[1,4],[2,3]],\n",
    "        1:[[4,12],[5,5]],\n",
    "        2:[[3,7],[4,10]],\n",
    "        3:[[4,2]],\n",
    "        4:[[6,5]],\n",
    "        5:[[6,16]],\n",
    "        6:[]}\n",
    "print(\"The route is : \")\n",
    "astar_algo(graph,0,6)"
   ]
  },
  {
   "cell_type": "code",
   "execution_count": 5,
   "metadata": {},
   "outputs": [],
   "source": [
    "def astar_algo(graph,start,goal):\n",
    "    pq = [[start,0,str(start),heuristic[start],0]]\n",
    "    node = 0\n",
    "    mini = 1000000000\n",
    "    min_path = \"\"\n",
    "    while pq != []:\n",
    "        node = pq[0][0]\n",
    "        g_i = pq[0][1]\n",
    "        path = pq[0][2]\n",
    "        if pq[0][4] == 1:\n",
    "            if mini > g_i:\n",
    "                min_path = path\n",
    "                mini = g_i\n",
    "        pq.pop(0)\n",
    "        adj = graph[node]\n",
    "        for i in adj:\n",
    "            f_i = g_i + i[1] + heuristic[i[0]]\n",
    "            if pq == []:\n",
    "                pq.append([i[0], g_i+i[1], path+\" -> \"+str(i[0]), f_i, 1 if i[0] == goal else 0])\n",
    "            else:\n",
    "                n = len(pq)\n",
    "                for j in range(n):\n",
    "                    if pq[j][3] >= f_i:\n",
    "                        pq.insert(j,[i[0], g_i+i[1], path+\" -> \"+str(i[0]), f_i, 1 if i[0] == goal else 0])\n",
    "                        break\n",
    "                else:\n",
    "                    pq.append([i[0], g_i+i[1], path+\" -> \"+str(i[0]), f_i, 1 if i[0] == goal else 0])\n",
    "#         print(pq)\n",
    "    print(min_path)\n",
    "                    \n",
    "                    \n",
    "        "
   ]
  },
  {
   "cell_type": "code",
   "execution_count": 2,
   "metadata": {},
   "outputs": [],
   "source": [
    "def a_star(graph,start,goal):\n",
    "    pq = [[0,21]]\n",
    "    close = []\n",
    "    node = pq[0][0]\n",
    "    \n",
    "    while node != goal:\n",
    "        pq.pop(0)\n",
    "        adj = graph[node]\n",
    "        for i in adj:\n",
    "            if i[0] not in close:\n",
    "                f_i = i[1] + heuristic[i[0]]\n",
    "                if pq == []:\n",
    "                    pq.append([i[0],f_i])\n",
    "                else:\n",
    "                    n = len(pq)\n",
    "                    for j in range(n):\n",
    "                        if pq[j][1] >= f_i:\n",
    "                            pq.insert(j,[i[0],f_i])\n",
    "                            break\n",
    "                    else:\n",
    "                        pq.append([i[0],f_i])\n",
    "                            \n",
    "        close.append(node)\n",
    "        node = pq[0][0]\n",
    "\n",
    "    print(\"The route is : \")\n",
    "    for i in close:\n",
    "        print(i,end=\" -> \")\n",
    "    print(goal)\n",
    "                        "
   ]
  }
 ],
 "metadata": {
  "kernelspec": {
   "display_name": "Python 3 (ipykernel)",
   "language": "python",
   "name": "python3"
  },
  "language_info": {
   "codemirror_mode": {
    "name": "ipython",
    "version": 3
   },
   "file_extension": ".py",
   "mimetype": "text/x-python",
   "name": "python",
   "nbconvert_exporter": "python",
   "pygments_lexer": "ipython3",
   "version": "3.10.4"
  }
 },
 "nbformat": 4,
 "nbformat_minor": 4
}
