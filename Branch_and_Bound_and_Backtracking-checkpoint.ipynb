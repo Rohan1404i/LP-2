{
 "cells": [
  {
   "cell_type": "markdown",
   "metadata": {},
   "source": [
    "<CENTER> <h2>Practical 5</h2> </center>"
   ]
  },
  {
   "cell_type": "code",
   "execution_count": 2,
   "metadata": {},
   "outputs": [],
   "source": [
    "def bbb(n,chess,rows,slash,backslash,cols):\n",
    "    if cols == n:\n",
    "        return True\n",
    "    for i in range(n):\n",
    "        flag = 0\n",
    "        if rows[i] == True:\n",
    "            flag += 1\n",
    "        if ((cols-i) + (n-1)) in backslash:\n",
    "            flag += 1\n",
    "        if (cols + i) in slash:\n",
    "            flag += 1\n",
    "        if flag == 0:\n",
    "            chess[i][cols] = \"Q\"\n",
    "            backslash.append(((cols-i) + (n-1)))\n",
    "            slash.append(cols+i)\n",
    "            rows[i] = True\n",
    "            ans = bbb(n,chess,rows,slash,backslash,cols+1)\n",
    "            if ans == False:\n",
    "                slash.pop()\n",
    "                backslash.pop()\n",
    "                chess[i][cols] = 1\n",
    "                rows[i] = False\n",
    "            else:\n",
    "                if cols == 0:\n",
    "                    return chess\n",
    "                return ans\n",
    "    return False\n",
    "    \n",
    "            "
   ]
  },
  {
   "cell_type": "code",
   "execution_count": 7,
   "metadata": {},
   "outputs": [
    {
     "name": "stdout",
     "output_type": "stream",
     "text": [
      "6\n",
      "1 1 1 Q 1 1 \n",
      "Q 1 1 1 1 1 \n",
      "1 1 1 1 Q 1 \n",
      "1 Q 1 1 1 1 \n",
      "1 1 1 1 1 Q \n",
      "1 1 Q 1 1 1 \n"
     ]
    }
   ],
   "source": [
    "n = int(input())\n",
    "chess = [[1 for _ in range(n)] for __ in range(n)]\n",
    "rows = [False for i in range(n)]\n",
    "backslash = []\n",
    "slash = []\n",
    "ans = bbb(n,chess,rows,slash,backslash,0)\n",
    "for i in range(n):\n",
    "    for j in range(n):\n",
    "        print(ans[i][j],end=\" \")\n",
    "    print()\n",
    "    "
   ]
  }
 ],
 "metadata": {
  "kernelspec": {
   "display_name": "Python 3 (ipykernel)",
   "language": "python",
   "name": "python3"
  },
  "language_info": {
   "codemirror_mode": {
    "name": "ipython",
    "version": 3
   },
   "file_extension": ".py",
   "mimetype": "text/x-python",
   "name": "python",
   "nbconvert_exporter": "python",
   "pygments_lexer": "ipython3",
   "version": "3.10.4"
  }
 },
 "nbformat": 4,
 "nbformat_minor": 4
}
