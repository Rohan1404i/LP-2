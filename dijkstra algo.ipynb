{
 "cells": [
  {
   "cell_type": "code",
   "execution_count": 57,
   "id": "b7ea72a7",
   "metadata": {},
   "outputs": [
    {
     "name": "stdout",
     "output_type": "stream",
     "text": [
      "The djikstra's MST is : \n",
      "{0: [[1, 4], [7, 8]], 1: [[0, 4], [2, 12]], 2: [[1, 12], [8, 14], [3, 19]], 3: [[2, 19]], 4: [[5, 21]], 5: [[6, 11], [4, 21]], 6: [[7, 9], [5, 11]], 7: [[0, 8], [6, 9]], 8: [[2, 14]]}\n",
      "Enter the start node : 0\n",
      "Enter the end node : 6\n",
      "The route is (with cost) : \n",
      "0 -> 7 -> 6 , Cost :  9\n"
     ]
    }
   ],
   "source": [
    "import math\n",
    "graph = {0:[[1,4],[7,8]],\n",
    "        1:[[0,4],[2,8],[7,11]],\n",
    "        2:[[1,8],[8,2],[5,4],[3,7]],\n",
    "        3:[[2,7],[5,14],[4,9]],\n",
    "         4:[[3,9],[5,10]],\n",
    "         5:[[2,4],[3,14],[4,10],[6,2]],\n",
    "         6:[[7,1],[5,2],[8,6]],\n",
    "         7:[[0,8],[1,11],[6,1],[8,7]],\n",
    "         8:[[2,2],[7,7],[6,6]]}\n",
    "\n",
    "dij_mst = djikstra_algo(graph,0)\n",
    "print(\"The djikstra's MST is : \")\n",
    "print(dij_mst)\n",
    "start = int(input(\"Enter the start node : \"))\n",
    "end = int(input(\"Enter the end node : \"))\n",
    "print(\"The route is (with cost) : \")\n",
    "find_route(start,end,dij_mst)"
   ]
  },
  {
   "cell_type": "code",
   "execution_count": 34,
   "id": "0287ad7f",
   "metadata": {},
   "outputs": [],
   "source": [
    "def djikstra_algo(graph,start):\n",
    "    alt_graph = {}\n",
    "    for i in graph.keys():\n",
    "        for j in graph[i]:\n",
    "            alt_graph[(i,j[0])] = j[1]\n",
    "#     print(alt_graph)\n",
    "    n = len(graph.keys())\n",
    "    v = [-1 for i in range(n)]\n",
    "    result = {i:[] for i in range(n)}\n",
    "    pq = [[start,start,0]]\n",
    "    node = start\n",
    "    v[start] = 1\n",
    "    while (-1 in v):\n",
    "        if pq == []:\n",
    "            val = 0\n",
    "        else:\n",
    "            node = pq[0][1]\n",
    "            node1 = pq[0][0]\n",
    "            val = pq[0][2]\n",
    "            if v[node] == 1:\n",
    "                pq.pop(0)\n",
    "                continue\n",
    "            result[node].append([node1,val])\n",
    "            result[node1].append([node,val])\n",
    "            v[node] = 1\n",
    "            pq.pop(0)\n",
    "        adj = graph[node]\n",
    "        for i in adj:\n",
    "            ele=[node,i[0],val+i[1]]\n",
    "            n1 = len(pq)\n",
    "            for j in range(n1):\n",
    "                if pq[j][2] > (i[1]+val):\n",
    "                    pq.insert(j,ele)\n",
    "                    break\n",
    "            else:\n",
    "                pq.append(ele)\n",
    "#         print(pq)\n",
    "    return result\n",
    "        "
   ]
  },
  {
   "cell_type": "code",
   "execution_count": 54,
   "id": "d0f5ff5f",
   "metadata": {},
   "outputs": [],
   "source": [
    "def find_route(start,end,graph):\n",
    "    v = [-1 for i in range(len(graph.keys()))]\n",
    "    \n",
    "    path = dfs(start, end, v, graph, str(start))\n",
    "    print(path[1],\", Cost : \",path[2])\n",
    "\n",
    "\n",
    "    "
   ]
  },
  {
   "cell_type": "code",
   "execution_count": 52,
   "id": "db957244",
   "metadata": {},
   "outputs": [],
   "source": [
    "def dfs(start, end, v, graph, path):\n",
    "    v[start] = 1\n",
    "    adj = graph[start]\n",
    "#     print(adj)\n",
    "    for i in adj:\n",
    "        if i[0] == end:\n",
    "            return [True, path+\" -> \"+str(i[0]),i[1]]\n",
    "        if v[i[0]] == -1:\n",
    "            ans = dfs(i[0],end,v,graph,path+\" -> \"+str(i[0]))\n",
    "            if ans == None:\n",
    "                continue\n",
    "            if ans[0] == True:\n",
    "                return ans\n",
    "    "
   ]
  }
 ],
 "metadata": {
  "kernelspec": {
   "display_name": "Python 3 (ipykernel)",
   "language": "python",
   "name": "python3"
  },
  "language_info": {
   "codemirror_mode": {
    "name": "ipython",
    "version": 3
   },
   "file_extension": ".py",
   "mimetype": "text/x-python",
   "name": "python",
   "nbconvert_exporter": "python",
   "pygments_lexer": "ipython3",
   "version": "3.10.4"
  }
 },
 "nbformat": 4,
 "nbformat_minor": 5
}
