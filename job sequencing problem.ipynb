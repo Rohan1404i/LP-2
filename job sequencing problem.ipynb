{
 "cells": [
  {
   "cell_type": "code",
   "execution_count": 2,
   "id": "cf275fbe",
   "metadata": {},
   "outputs": [
    {
     "name": "stdout",
     "output_type": "stream",
     "text": [
      "The maximum jobs that can be scheduled are as follows : \n",
      "1 3 5 6 "
     ]
    }
   ],
   "source": [
    "jobs = {1:[5,5],2:[7,5],3:[9,3],4:[12,4],5:[11,1],6:[12,1]}\n",
    "print(\"The maximum jobs that can be scheduled are as follows : \")\n",
    "job_seq(jobs)"
   ]
  },
  {
   "cell_type": "code",
   "execution_count": 1,
   "id": "454dab52",
   "metadata": {},
   "outputs": [],
   "source": [
    "def job_seq(jobs):\n",
    "    time = list(jobs.items())\n",
    "    time.sort(key=lambda x:x[1])\n",
    "    curr = 0\n",
    "    seq = []\n",
    "#     print(time)\n",
    "    for i in time:\n",
    "        if (curr+i[1][1]) > i[1][0]:\n",
    "            continue\n",
    "        seq.append(i[0])\n",
    "        curr += i[1][1]\n",
    "    for i in seq:\n",
    "        print(i,end=\" \")\n",
    "        \n",
    "            "
   ]
  }
 ],
 "metadata": {
  "kernelspec": {
   "display_name": "Python 3 (ipykernel)",
   "language": "python",
   "name": "python3"
  },
  "language_info": {
   "codemirror_mode": {
    "name": "ipython",
    "version": 3
   },
   "file_extension": ".py",
   "mimetype": "text/x-python",
   "name": "python",
   "nbconvert_exporter": "python",
   "pygments_lexer": "ipython3",
   "version": "3.10.4"
  }
 },
 "nbformat": 4,
 "nbformat_minor": 5
}
