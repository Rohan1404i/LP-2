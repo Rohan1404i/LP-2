{
 "cells": [
  {
   "cell_type": "code",
   "execution_count": 3,
   "metadata": {},
   "outputs": [
    {
     "name": "stdout",
     "output_type": "stream",
     "text": [
      "BFS :  0 1 3 5 8 2 7 4 6 \n",
      "DFS:  0 1 2 7 3 8 6 4 5 \n"
     ]
    }
   ],
   "source": [
    "graph = {0:[1,3,5,8],1:[0,2,7],2:[1,7],3:[0,8,4],4:[3,6],5:[0],6:[4,8],7:[1,2],8:[0,3,6]}\n",
    "print(\"BFS : \",end=\" \")\n",
    "bfs_helper(graph)\n",
    "print()\n",
    "print(\"DFS: \",end=\" \")\n",
    "dfs_helper(graph)\n",
    "print()"
   ]
  },
  {
   "cell_type": "code",
   "execution_count": 1,
   "metadata": {},
   "outputs": [],
   "source": [
    "def dfs_helper(graph):\n",
    "    n = len(graph.keys())\n",
    "    v = [-1 for i in range(n)]\n",
    "    dfs(graph,0,v)\n",
    "def dfs(graph,start,v):\n",
    "    if v[start] == 1:\n",
    "        return\n",
    "    v[start] = 1\n",
    "    print(start,end=\" \")\n",
    "    adj = graph[start]\n",
    "    for i in adj:\n",
    "        dfs(graph,i,v)\n",
    "        "
   ]
  },
  {
   "cell_type": "code",
   "execution_count": 2,
   "metadata": {},
   "outputs": [],
   "source": [
    "def bfs_helper(graph):\n",
    "    n = len(graph.keys())\n",
    "    v = [-1 for i in range(n)]\n",
    "    queue = [0]\n",
    "    bfs(graph,v,queue)\n",
    "def bfs(graph,v,queue):\n",
    "    while queue != [] and v[queue[0]] != -1:\n",
    "        queue.pop(0)\n",
    "    if queue == []:\n",
    "        return\n",
    "    ele = queue[0]\n",
    "    v[ele] = 1\n",
    "    print(ele,end=\" \")\n",
    "    adj = graph[ele]\n",
    "    queue.pop(0)\n",
    "    for i in adj:\n",
    "        if v[i] == -1:\n",
    "            queue.append(i)\n",
    "    if queue == []:\n",
    "        return\n",
    "    bfs(graph,v,queue)"
   ]
  }
 ],
 "metadata": {
  "kernelspec": {
   "display_name": "Python 3 (ipykernel)",
   "language": "python",
   "name": "python3"
  },
  "language_info": {
   "codemirror_mode": {
    "name": "ipython",
    "version": 3
   },
   "file_extension": ".py",
   "mimetype": "text/x-python",
   "name": "python",
   "nbconvert_exporter": "python",
   "pygments_lexer": "ipython3",
   "version": "3.10.4"
  }
 },
 "nbformat": 4,
 "nbformat_minor": 4
}
